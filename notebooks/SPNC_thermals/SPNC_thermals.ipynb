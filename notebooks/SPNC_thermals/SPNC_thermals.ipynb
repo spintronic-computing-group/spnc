{
 "cells": [
  {
   "cell_type": "markdown",
   "metadata": {},
   "source": [
    "# SPNC thermals\n",
    "Code for experimenting with the effects of thermal variation on ML performance"
   ]
  }
 ],
 "metadata": {
  "jupytext": {
   "formats": "ipynb,py:percent",
   "main_language": "python"
  },
  "language_info": {
   "name": "python"
  }
 },
 "nbformat": 4,
 "nbformat_minor": 2
}
