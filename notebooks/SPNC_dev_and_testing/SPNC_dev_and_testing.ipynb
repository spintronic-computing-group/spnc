{
 "cells": [
  {
   "cell_type": "code",
   "execution_count": null,
   "metadata": {
    "lines_to_next_cell": 1
   },
   "outputs": [],
   "source": [
    "import numpy as np\n",
    "from matplotlib import pyplot as plt\n",
    "from scipy import constants"
   ]
  },
  {
   "cell_type": "code",
   "execution_count": null,
   "metadata": {
    "lines_to_next_cell": 1
   },
   "outputs": [],
   "source": [
    "# Reduced magnetisation for two state system evolving with constant field \n",
    "# note: I am using the notation, w12: transition rate from state 1, to state 2\n",
    "# w12, w21 must be constant over the tstep!\n",
    "def SPNC_magnetisation_two_state(w21,w12,m0,tstep):\n",
    "\n",
    "    wdiff = w21 - w12\n",
    "    w = w12 + w21\n",
    "    wratio = wdiff/w\n",
    "    m = wratio + (m0 - wratio)*np.exp(-w*tstep)\n",
    "\n",
    "    return m"
   ]
  },
  {
   "cell_type": "code",
   "execution_count": null,
   "metadata": {
    "lines_to_next_cell": 1
   },
   "outputs": [],
   "source": [
    "# General rate equation\n",
    "def SPNC_rate(f0,ebarrier,temp):\n",
    "\n",
    "    w = f0*np.exp(-ebarrier/(constants.k*temp))\n",
    "\n",
    "    return w"
   ]
  },
  {
   "cell_type": "code",
   "execution_count": null,
   "metadata": {},
   "outputs": [],
   "source": [
    "# Stoner-wolfarth rate\n",
    "    # plusminus = -1 gives rate 21, = +1 gives rate 12 \n",
    "def SPNC_rate_sw(beta_prime,h_prime,minusplus):\n",
    "    \n",
    "    w = np.exp( -beta_prime * np.power( (1 + minusplus * h_prime) ,2) )\n",
    "    \n",
    "    return w"
   ]
  },
  {
   "cell_type": "code",
   "execution_count": null,
   "metadata": {},
   "outputs": [],
   "source": [
    "def SPNC_magnetisation_sw(beta_prime,h_prime,m0,t_prime_step):\n",
    "    \n",
    "    w21 = SPNC_rate_sw(beta_prime,h_prime,-1)\n",
    "    w12 = SPNC_rate_sw(beta_prime,h_prime,+1)\n",
    "    \n",
    "    return SPNC_magnetisation_two_state(w21,w12,m0,t_prime_step)"
   ]
  },
  {
   "cell_type": "code",
   "execution_count": null,
   "metadata": {},
   "outputs": [],
   "source": [
    "def SPNC_mag_evolver_sw(beta_prime,h_primes,t_prime):\n",
    "    \n",
    "    time = np.zeros(h_primes.shape[0]+1)\n",
    "    mag = np.zeros(h_primes.shape[0]+1)\n",
    "    time[0] = 0\n",
    "    mag[0] = 0\n",
    "    \n",
    "    for i in range(len(time)-1):\n",
    "        \n",
    "        time[i+1] =  time[i] + t_prime\n",
    "        mag[i+1] = SPNC_magnetisation_sw(beta_prime,h_primes[i],mag[i],t_prime)\n",
    "        \n",
    "    return time, mag    "
   ]
  },
  {
   "cell_type": "code",
   "execution_count": null,
   "metadata": {},
   "outputs": [],
   "source": [
    "        "
   ]
  }
 ],
 "metadata": {
  "jupytext": {
   "cell_metadata_filter": "-all",
   "formats": "ipynb,py:hydrogen",
   "main_language": "python",
   "notebook_metadata_filter": "-all"
  },
  "kernelspec": {
   "display_name": "Python 3",
   "language": "python",
   "name": "python3"
  },
  "language_info": {
   "codemirror_mode": {
    "name": "ipython",
    "version": 3
   },
   "file_extension": ".py",
   "mimetype": "text/x-python",
   "name": "python",
   "nbconvert_exporter": "python",
   "pygments_lexer": "ipython3",
   "version": "3.7.6"
  }
 },
 "nbformat": 4,
 "nbformat_minor": 4
}
