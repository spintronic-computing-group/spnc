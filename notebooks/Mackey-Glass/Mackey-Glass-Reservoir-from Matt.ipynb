{
 "cells": [
  {
   "cell_type": "code",
   "execution_count": 1,
   "metadata": {},
   "outputs": [
    {
     "name": "stdout",
     "output_type": "stream",
     "text": [
      "0.5273656621130207\n"
     ]
    },
    {
     "data": {
      "image/png": "[encoded data removed]",
      "text/plain": [
       "<Figure size 432x288 with 1 Axes>"
      ]
     },
     "metadata": {
      "needs_background": "light"
     },
     "output_type": "display_data"
    }
   ],
   "source": [
    "import numpy as np\n",
    "import matplotlib.pyplot as plt\n",
    "\n",
    "def NARMA10(N):\n",
    "    u = np.random.random(N+50)*0.5\n",
    "    y = np.zeros(N+50)\n",
    "    for k in range(10,N+50):\n",
    "        y[k] = 0.3*y[k-1] + 0.05*y[k-1]*np.sum(y[k-10:k]) + 1.5*u[k-1]*u[k-10] + 0.1\n",
    "    return u[50:], y[50:]\n",
    "\n",
    "def MG_func(x, J, gamma, eta, p):\n",
    "    return eta*(x + gamma*J) / (1 + np.power( x + gamma*J, p))\n",
    "\n",
    "\n",
    "def MSE(y,d):\n",
    "    return np.square(np.subtract(y,d)).mean()\n",
    "\n",
    "def NRMSE(y,d):\n",
    "    var = np.var(d)\n",
    "    return np.sqrt(np.square(np.subtract(y,d)).mean()/var)\n",
    "\n",
    "class Single_Node_Reservoir:\n",
    "    def __init__(self, Nin, Nvirt, Nout, theta):\n",
    "        self.Nin = Nin\n",
    "        self.Nvirt = Nvirt\n",
    "        self.Nout = Nout\n",
    "        self.theta = theta\n",
    "        self.m0 = 0.1\n",
    "        self.M = 2*self.m0*(np.random.randint(0,2, (Nvirt,Nin))-0.5)\n",
    "        self.W = np.zeros( (Nvirt,Nout))\n",
    "\n",
    "    def gen_signal(self, u):\n",
    "        '''\n",
    "        Function to generate the reservoir signal from an input u\n",
    "        '''\n",
    "        Ns = len(u)\n",
    "        u = u.reshape((Ns,self.Nin))\n",
    "        J = np.zeros((Ns, self.Nvirt))\n",
    "        S = np.zeros((Ns, self.Nvirt))\n",
    "\n",
    "        Sigma = np.exp(-self.theta)\n",
    "        gamma = 0.001\n",
    "        eta = 0.45\n",
    "        P = 1\n",
    "\n",
    "        for k in range(Ns):\n",
    "            J[k] = np.matmul( self.M, u[k])\n",
    "\n",
    "            S[k,0] = S[k-1,self.Nvirt-1] * Sigma + (1.0 - Sigma)*MG_func( S[k-1,0], J[k,0], gamma, eta, P)\n",
    "            for i in range(1,self.Nvirt):\n",
    "                S[k,i] = S[k,i-1] * Sigma + (1.0 - Sigma)*MG_func( S[k-1,i], J[k,i], gamma, eta, P)\n",
    "\n",
    "\n",
    "\n",
    "        return S\n",
    "\n",
    "    def train(self, S, Y, l):\n",
    "        # Y = S * W^T\n",
    "        # S^T * Y = S^T * S * W^T\n",
    "        # W^T = (S^T*S + \\lambda^2 I)^-1 * S^T * Y\n",
    "        STY = np.matmul(S.T, Y)\n",
    "        STS = np.matmul(S.T, S) + l**2*np.eye(S.shape[1])\n",
    "        STS_inv = np.linalg.pinv(STS)\n",
    "        self.Wout = np.matmul(STS_inv, STY)\n",
    "\n",
    "\n",
    "    def forward(self, xb):\n",
    "        return np.dot(xb, self.Wout)\n",
    "\n",
    "\n",
    "\n",
    "\n",
    "net = Single_Node_Reservoir(1, 400, 1, 0.2)\n",
    "\n",
    "Ns = 10000\n",
    "u, d = NARMA10(Ns)\n",
    "u.reshape((Ns,1))\n",
    "d.reshape((Ns,1))\n",
    "\n",
    "S = net.gen_signal(u)\n",
    "net.train(S, d, 0.0)\n",
    "\n",
    "\n",
    "pred = net.forward(S)\n",
    "error = NRMSE(pred, d)\n",
    "print(error)\n",
    "\n",
    "plt.plot(np.linspace(0,1.0),np.linspace(0,1.0), 'k--' )\n",
    "plt.plot(d, pred,'go')\n",
    "plt.ylabel('Predicted')\n",
    "plt.xlabel('Exact')\n",
    "plt.show()"
   ]
  },
  {
   "cell_type": "code",
   "execution_count": null,
   "metadata": {},
   "outputs": [],
   "source": []
  }
 ],
 "metadata": {
  "jupytext": {
   "formats": "ipynb,py:hydrogen"
  },
  "kernelspec": {
   "display_name": "Python 3",
   "language": "python",
   "name": "python3"
  },
  "language_info": {
   "codemirror_mode": {
    "name": "ipython",
    "version": 3
   },
   "file_extension": ".py",
   "mimetype": "text/x-python",
   "name": "python",
   "nbconvert_exporter": "python",
   "pygments_lexer": "ipython3",
   "version": "3.7.6"
  }
 },
 "nbformat": 4,
 "nbformat_minor": 4
}
