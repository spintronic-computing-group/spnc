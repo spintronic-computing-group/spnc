{
 "cells": [
  {
   "cell_type": "markdown",
   "metadata": {},
   "source": [
    "# Speech Recognition with a SP network (control of strain)"
   ]
  },
  {
   "cell_type": "code",
   "execution_count": 1,
   "metadata": {},
   "outputs": [],
   "source": [
    "import numpy as np\n",
    "import matplotlib.pyplot as plt\n",
    "\n",
    "import SP_anisotropy_class as SPN\n",
    "\n",
    "import machine_learning_library.datasets.load_TI46 as TI46\n",
    "from machine_learning_library.ridge_regression import *\n",
    "from machine_learning_library.mask import *\n",
    "from python_speech_features import mfcc"
   ]
  },
  {
   "cell_type": "code",
   "execution_count": 5,
   "metadata": {},
   "outputs": [],
   "source": [
    "# Can specify the speakers to use or leave blank (or None) to include all\n",
    "speakers = ['f1', 'f2', 'f3', 'f4', 'f5']\n",
    "\n",
    "# Specifying digits_only=True and train=True returns only the spoken digits part of TI20 training set\n",
    "# It returns the signal, label and sampling rate of the data\n",
    "train_signal, train_label, train_rate, train_speaker = TI46.load_TI20(\n",
    "        speakers, digits_only=True, train=True)"
   ]
  },
  {
   "cell_type": "code",
   "execution_count": 7,
   "metadata": {},
   "outputs": [
    {
     "name": "stdout",
     "output_type": "stream",
     "text": [
      "12500\n",
      "14848\n"
     ]
    }
   ],
   "source": [
    "print(train_rate[0])\n",
    "print(len(train_signal[0]))"
   ]
  },
  {
   "cell_type": "code",
   "execution_count": null,
   "metadata": {},
   "outputs": [],
   "source": [
    "def pre_process(signals, rates, nfft=512):\n",
    "    x = np.empty_like(signals)\n",
    "    for i,(sig,rate) in enumerate(zip(signals, rates)):\n",
    "        winlen = nfft / rate\n",
    "        x[i] = mfcc(sig, rate, winfunc=np.hanning, winlen=winlen, winstep=winlen/2, nfft=nfft)\n",
    "    return x\n",
    "\n",
    "x_train = pre_process(train_signal, train_rate, nfft=512)\n",
    "x_test = pre_process(test_signal, test_rate, nfft=512)"
   ]
  },
  {
   "cell_type": "code",
   "execution_count": 16,
   "metadata": {},
   "outputs": [
    {
     "ename": "NameError",
     "evalue": "name 'X' is not defined",
     "output_type": "error",
     "traceback": [
      "\u001b[0;31m---------------------------------------------------------------------------\u001b[0m",
      "\u001b[0;31mNameError\u001b[0m                                 Traceback (most recent call last)",
      "\u001b[0;32m<ipython-input-16-a209ca1c42ba>\u001b[0m in \u001b[0;36m<module>\u001b[0;34m\u001b[0m\n\u001b[0;32m----> 1\u001b[0;31m \u001b[0mRidge_regression\u001b[0m\u001b[0;34m(\u001b[0m\u001b[0mX\u001b[0m\u001b[0;34m,\u001b[0m \u001b[0mY\u001b[0m\u001b[0;34m,\u001b[0m \u001b[0ml\u001b[0m\u001b[0;34m)\u001b[0m\u001b[0;34m\u001b[0m\u001b[0;34m\u001b[0m\u001b[0m\n\u001b[0m",
      "\u001b[0;31mNameError\u001b[0m: name 'X' is not defined"
     ]
    }
   ],
   "source": [
    "h = 0.4\n",
    "theta_H = 90\n",
    "k_s_0 = 0\n",
    "phi = 45\n",
    "f0 = 1e10\n",
    "class Single_Node_Reservoir_Speech_Reco:\n",
    "    \n",
    "    def __init__(self, Nin, Nvirt, T_theta_ratio, m0, gamma, beta_prime = 10, bias = True):\n",
    "        self.Nin = Nin\n",
    "        self.Nvirt = Nvirt\n",
    "        self.Nout = 10\n",
    "        \n",
    "        self.spn = SPN.SP_Network(h,theta_H,k_s_0,phi,beta_prime)\n",
    "        SPN.calculate_energy_barriers(self.spn)\n",
    "        self.T = 1./(self.spn.get_omega_prime()*f0)\n",
    "        self.theta = self.T/T_theta_ratio\n",
    "        self.tau = self.Nvirt*self.theta\n",
    "        \n",
    "        self.M = binary_mask(Nin,Nvirt,m0=m0)\n",
    "        \n",
    "        self.W = np.zeros((Nvirt,10))\n",
    "        \n",
    "        self.gamma = gamma\n",
    "        \n",
    "        self.use_bias = bias\n",
    "    \n",
    "    def gen_signal_fast_delayed_feedback(self, x, delay_fb):\n",
    "        Ns = len(u)\n",
    "        if self.use_bias:\n",
    "            print(\"Use bias\")\n",
    "            S = np.zeros((Ns,self.Nvirt+1))\n",
    "        else:\n",
    "            S = np.zeros((Ns,self.Nvirt))\n",
    "            \n",
    "        for k in range(Ns):\n",
    "            if k%100==0:\n",
    "                print(k)\n",
    "            for i in range(self.Nvirt):\n",
    "                j = self.M[i]*u[k] + self.k_off #Offset\n",
    "                self.spn.k_s = j + self.gamma*S[k-1,i-delay_fb] #Delayed Feedback \n",
    "                self.spn.evolve_fast(f0,self.theta)\n",
    "                S[k,i] = self.spn.get_m_fast()\n",
    "                \n",
    "        if self.use_bias:\n",
    "            for k in range(Ns):\n",
    "                S[k,self.Nvirt] = 1\n",
    "        \n",
    "        return(S[spacer:])\n",
    "    \n",
    "    def gen_signal_delayed_feedback_without_SPN(self, u, delay_fb):\n",
    "        Ns = len(u)\n",
    "        if self.use_bias:\n",
    "            print(\"Use bias\")\n",
    "            J = np.zeros((Ns,self.Nvirt+1))\n",
    "        else:\n",
    "            J = np.zeros((Ns,self.Nvirt))\n",
    "            \n",
    "        # Artificial nonlinearity\n",
    "        #f = lambda x: x\n",
    "        f=np.tanh\n",
    "            \n",
    "        for k in range(Ns):\n",
    "            if k%100==0:\n",
    "                print(k)\n",
    "            for i in range(self.Nvirt):\n",
    "                j = self.M[i]*u[k] + self.k_off #Offset\n",
    "                J[k,i] = f(j + self.gamma*J[k-1,i-delay_fb]) #Delayed Feedback \n",
    "                \n",
    "        if self.use_bias:\n",
    "            for k in range(Ns):\n",
    "                J[k,self.Nvirt] = 1\n",
    "        \n",
    "        return(J[spacer:])"
   ]
  },
  {
   "cell_type": "code",
   "execution_count": null,
   "metadata": {},
   "outputs": [],
   "source": []
  }
 ],
 "metadata": {
  "kernelspec": {
   "display_name": "Python 3",
   "language": "python",
   "name": "python3"
  },
  "language_info": {
   "codemirror_mode": {
    "name": "ipython",
    "version": 3
   },
   "file_extension": ".py",
   "mimetype": "text/x-python",
   "name": "python",
   "nbconvert_exporter": "python",
   "pygments_lexer": "ipython3",
   "version": "3.7.6"
  }
 },
 "nbformat": 4,
 "nbformat_minor": 4
}
