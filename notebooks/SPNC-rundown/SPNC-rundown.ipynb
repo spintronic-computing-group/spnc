{
 "cells": [
  {
   "cell_type": "markdown",
   "metadata": {},
   "source": [
    "# SPNC rundown\n",
    "*This is a rundown of thoughts and ideas for the SPNC (Superparamagnetic neuromorphic computing) project*"
   ]
  },
  {
   "cell_type": "markdown",
   "metadata": {},
   "source": [
    "Notation: <br>\n",
    "$\\beta = 1/k_BT$ <br>\n",
    "$w$ is transition rate <br>\n",
    "$H_K = 2K/M_s $"
   ]
  },
  {
   "cell_type": "markdown",
   "metadata": {},
   "source": [
    "Some useful references: <br>\n",
    "Theory of ferromagnetism, Aharoni [ISBN: 0198508093](http://books.google.com/books?vid=ISBN0198508093)\n",
    "\n",
    "***"
   ]
  },
  {
   "cell_type": "markdown",
   "metadata": {},
   "source": [
    "## State of play\n",
    "*Items in **bold** are important for a paper.*\n",
    "\n",
    "**Questions we've answered:**\n",
    "- Voltage control is possible\n",
    "- We can do NARMA10 task (similar to Appeltant) with field and voltage\n",
    "\n",
    "**Questions we're working on:**\n",
    "- **What does a practical device look like? There are important questions about timescales and errors.**\n",
    "- **Heat maps (with scaling factor and offset to input) at different $\\beta'$**\n",
    "- **Speech recognition task**\n",
    "- Multiple resevoirs\n",
    "- How does the mask effect ML? \n",
    "- What role does number of virtual nodes play? (This is related to mask, but also feedback).\n",
    "- What is the role of feedback?\n",
    "\n",
    "**Questions we're interested in considering:**\n",
    "- How can we quantify non-linearity of res (or input function)? How does this work with generic resevoirs?\n",
    "- What is the effect of oscilatory inputs?\n",
    "- Bring in micromagnetics\n",
    "\n",
    "## Outlook\n",
    "\n",
    "- Want to publish simulation paper with suggestion of sensible device\n",
    "- Use this as basis for grant application and to drive experiments\n",
    "\n",
    "***"
   ]
  },
  {
   "cell_type": "markdown",
   "metadata": {},
   "source": [
    "## A model system"
   ]
  },
  {
   "cell_type": "markdown",
   "metadata": {},
   "source": [
    "First we need a model of the behaviour of a superparamagnetic ensemble.\n",
    "If this shows non-linearity and memory, it can be interfaced into a machine learning code. <br>\n",
    "([1](http://dx.doi.org/10.1063/1.3477956)) Chantrell, Walmsley, Gore and Maylin - **Model system** for interacting superparamagnetic particles showing strong non-linearity dependant on packing density. *Many links to other papers* <br>\n",
    "([2](http://dx.doi.org/10.1103/PhysRevB.63.024410)) Hovorka, Evans, Chantrell and Berger - A follow up to the above, looking at switching fields  and sweep rate dependance. <br>"
   ]
  },
  {
   "cell_type": "markdown",
   "metadata": {},
   "source": [
    "From (1): <br>\n",
    "We get a relaxation time/transition rate, $w = \\tau^{-1} = f_0 \\exp{(-E_b \\beta)}$ where $f_0$ is typically taken between $10^9$ &ndash; $10^{11}$ s$^{-1}$ (strictly it is a very slowly changing variable, but this can typically be ignored)<br>\n",
    "To begin with we will consider $KV \\gg \\beta^{-1}$ as this approximates to a simple two state system&mdash;otherwise something like the Metropolis algorith is required to take into account the local moves near the minima. We can then describe the system using the master equation for a two-state system: <br>\n",
    "$$ \\frac{dn_1}{dt} = \\frac{n_2}{\\tau_{21}} - \\frac{n_1}{\\tau_{12}} $$ <br>\n",
    "- Given that $ n = n_1 + n_2 $ and $ M = M_s v (n_1 - n_2)$ $\\implies M = Ms V (2 n_1 - n)$ <br>\n",
    "- This approach works well for $ E_b \\geq 3 \\beta^{-1} $ <br>\n",
    "Taking the field along the anisotropy axis, in direction such that state 1 is the minima for positive field and using $H_k = 2K/M_s$:\n",
    "$$ E_{21} = KV( 1 - H/H_K)^2$$ and $$ E_{12} = KV( 1 + H/H_K)^2 $$\n",
    "Therefore we can rewrite the master equation as:\n",
    "$$ \\frac{dn_1}{dt} = f_0 (n - n_1) \\exp{(-\\beta KV(1-H/H_k)^2)} - f_0 n_1 \\exp{(-\\beta KV(1+H/H_k)^2)} $$ <br>\n"
   ]
  },
  {
   "cell_type": "code",
   "execution_count": 1,
   "metadata": {
    "jupyter": {
     "source_hidden": true
    }
   },
   "outputs": [
    {
     "data": {
      "application/vnd.jupyter.widget-view+json": {
       "model_id": "dc72a37cdbe846a3b8cff1a43f3d930e",
       "version_major": 2,
       "version_minor": 0
      },
      "text/plain": [
       "Canvas(toolbar=Toolbar(toolitems=[('Home', 'Reset original view', 'home', 'home'), ('Back', 'Back to previous …"
      ]
     },
     "metadata": {},
     "output_type": "display_data"
    }
   ],
   "source": [
    "%matplotlib widget\n",
    "from matplotlib import pyplot as plt\n",
    "import numpy as np\n",
    "\n",
    "# Remove previously opened figure\n",
    "if 'fig' in locals():\n",
    "    plt.close(fig)\n",
    "\n",
    "# Basic energy for 1D model with H along the anisotropy axis\n",
    "def basic_energy(K,V,muH,theta):\n",
    "    energy = K*V*np.power(np.sin(theta*np.pi/180),2) - muH * np.cos(theta*np.pi/180)\n",
    "    return energy\n",
    "\n",
    "# Make a schematic plot for the energy\n",
    "with plt.xkcd():\n",
    "    fig = plt.figure()\n",
    "    ax = fig.add_subplot(1, 1, 1)\n",
    "    ax.spines['left'].set_position('zero')\n",
    "    ax.spines['right'].set_color('none')\n",
    "    ax.spines['bottom'].set_position('zero')\n",
    "    ax.spines['top'].set_color('none')\n",
    "    plt.xticks([])\n",
    "    plt.yticks([])\n",
    "    plt.title('Energy landscape schematic')\n",
    "\n",
    "    theta = np.arange(-30,210,1)\n",
    "    ax.set_xlim([-30, 210])\n",
    "    plt.plot(theta,basic_energy(1,1,0.25,theta))\n",
    "\n",
    "    ax.annotate('minima one',xy=(0,basic_energy(1,1,0.25,0)),arrowprops=dict(arrowstyle='->'),xytext=(10,.75))\n",
    "    ax.annotate('minima two',xy=(180,basic_energy(1,1,0.25,180)),arrowprops=dict(arrowstyle='->'),xytext=(180,.75))\n",
    "    ax.annotate('KT << delta E',xy=(0,basic_energy(1,1,0.25,180)),xytext=(70,.35))\n",
    "\n",
    "    plt.xlabel('theta')\n",
    "    plt.ylabel('energy')"
   ]
  },
  {
   "cell_type": "markdown",
   "metadata": {},
   "source": [
    "## Comparison to mumax model so far"
   ]
  },
  {
   "cell_type": "code",
   "execution_count": 2,
   "metadata": {
    "jupyter": {
     "source_hidden": true
    }
   },
   "outputs": [
    {
     "data": {
      "image/png": "[encoded data removed]",
      "text/plain": [
       "<IPython.core.display.Image object>"
      ]
     },
     "execution_count": 2,
     "metadata": {},
     "output_type": "execute_result"
    }
   ],
   "source": [
    "from IPython.display import Image\n",
    "Image(filename=\"images/basic-system-schematic.png\")"
   ]
  },
  {
   "cell_type": "markdown",
   "metadata": {},
   "source": [
    "### Tom's model\n",
    "\n",
    "From intuition, the form under constant field/decay should be given by:\n",
    "\n",
    "**Decay:**\n",
    "$$ \\frac{M}{M_s} = e^{-t/\\tau} $$\n",
    "**Excitation:**\n",
    "$$ \\frac{M}{M_s} = a(H)\\left( 1 - e^{-t/b(H)} \\right) $$\n",
    "\n",
    "### The new description\n",
    "\n",
    "***NB: I have had to change the order of ij relative to the papers, as there was a mistake!*** <br>\n",
    "From (2) and (1) we can recast the master equation given above, via integration, to find the probability of occupation of either state at a time t (given constant H):\n",
    "$$ p_i(t) =  \\frac{w_{ji}}{w} + \\left[p_i(0) - \\frac{w_{ji}}{w} \\right] \\exp{(-wt)} $$\n",
    "where $w = w_{12} + w_{21}$. As $ m = M/M_s n V = (P_1 - P_2) $ we get:\n",
    "$$ m(t) = \\left( \\frac{w_{21} - w_{12}}{w} \\right) + \\left[ m(0) - \\left( \\frac{w_{21} - w_{12}}{w} \\right) \\right] \\exp{(-wt)} $$\n",
    "For $w_{12} = w_{21}$ (i.e. no field), this reduces to the decay term:\n",
    "$$ m(t) = m(0) \\exp{(-wt)} $$\n",
    "For constant field and m(0) = 0, this reduces to the excitation term:\n",
    "$$ m(t) = \\left( \\frac{w_{21} - w_{12}}{w} \\right) [1 - \\exp{(-wt)}] $$\n",
    "NB: $w$ is field dependant, so it is *different* in these two cases!! <br>\n",
    "We can therefore link a(H) and b(H) to transition rates, or likewise calculate transition rates from a(H) and b(H).\n",
    "$$ a(H) = n V\\left( \\frac{w_{21} - w_{12}}{w} \\right) =  nV \\frac{e^{HM_sV\\beta} - e^{-HM_sV\\beta}}{e^{HM_sV\\beta} + e^{-HM_sV\\beta}} = nV \\tanh{\\left( \\frac{HM_sV}{K_B T} \\right)} $$\n",
    "$$ 1/b(H) = w = f_0 \\exp{(-\\beta KV(1-H/H_k)^2)} + f_0 \\exp{(-\\beta KV(1+H/H_k)^2)} $$\n",
    "Where the derivation following the second equals signs is for the stoner-wolfarth case. <br>\n",
    "This lets us feed our mumax simulations back into a solver with the equation:\n",
    "$$ \\frac{dn_1}{dt} = w_{21}(H,T){n_2} - w_{12}(H,T){n_1} $$ <br>"
   ]
  },
  {
   "cell_type": "markdown",
   "metadata": {},
   "source": [
    "## The stoner-wolfarth model: simplifications for modelling"
   ]
  },
  {
   "cell_type": "markdown",
   "metadata": {},
   "source": [
    "In the case of the SW model, it is worth simplifying the expressions by looking at relative energies and fields; the real units are not so important here, rather the behaviour.\n",
    "Let us denote $w_{21} = w_+ \\, \\& \\, w_{12} = w_-$ and rewrite the transition rates as follows:\n",
    "\n",
    "$$ w_{\\pm} = f_0 \\exp{ \\left( - (KV/K_B T) (1 \\mp H/H_K)^2 \\right) } $$\n",
    "\n",
    "Then taking $\\beta' = KV/K_BT$ and $H' = H/H_K$ and setting (without loss of generality) $f_0 = 1$, we can write:\n",
    "\n",
    "$$ w_{\\pm} = \\exp{(-\\beta' (1 \\mp H')^2)} $$\n",
    "where we see from our condition $E_b \\beta \\ge 3$ that at minimum $\\beta' \\ge 3$ and $ |H'| < 1$. The second condition is also apparent as the higher energy state will no longer be a minimum once $H > H_K$ which breaks our two state model. <br>\n",
    "\n",
    "We see that the important features are a thermal energy like term and a field like term - although of course they are dimensionless here! We can also more generically absorb our constant $f_0$ into the time parameter to get the dimensionless, $t' = tf_0$. Taking also that $n'_1 = n_1/n \\, \\, \\& \\, \\, n'_2 = n_2 /n$, allows us to write:\n",
    "\n",
    "$$ dn'_1 / dt' =  (1-n'_1) \\exp{(-\\beta' (1 - H')^2)} - n'_1 \\exp{(-\\beta' (1 + H')^2)}  $$\n",
    "For the integrated description, we find that:\n",
    "$$ \\frac{w_+ - w_-}{w} = \\frac{e^{2\\beta' H'} - e^{-2\\beta' H'}}{e^{2\\beta' H'} + e^{-2\\beta' H'}} = \\tanh{(2\\beta' H')} $$\n",
    "and:\n",
    "$$ w = 2 \\cosh{(2\\beta' H')} \\exp{(-\\beta' (1+H'^2))} $$\n",
    "Such that:\n",
    "$$ m(t') = \\tanh{(2\\beta' H')} + [m(0) - \\tanh{(2\\beta' H')}] \\exp{\\left( - w t' \\right)} $$\n",
    "Which we can rearrange to:\n",
    "$$ m(t') = \\tanh{(2\\beta' H')} \\left[ 1 - \\exp{\\left( - w t' \\right)} \\right] + m(0) \\exp{\\left( - w t' \\right)} $$\n",
    "\n",
    "We have two terms, an exciation and a decay, both with the same characteristic time scale. The decay represents loss of memory of the start state. The excitation represents response to the new input. Note, however, that for changing fields, the excitation to a value under one field and the decay away from it at another *do not* have the same time scale."
   ]
  },
  {
   "cell_type": "markdown",
   "metadata": {},
   "source": [
    "### Characteristic timescale"
   ]
  },
  {
   "cell_type": "markdown",
   "metadata": {},
   "source": [
    "This model works well as our basic case for ML, but it would be good to put time in reference to some charactersitic time scale. This means that in our resevoirs we don't need to worry about how changing $\\beta$ changes time over which the basic (no field) decay happens.\n",
    "$$ w(H'=0) = w_0 = 2 \\exp{(-\\beta')} $$\n",
    "$$ \\implies wt' = \\frac{w}{w_0} [w_0 t'] = \\cosh{(2 \\beta' H')} \\exp{(-\\beta' H'^2)} [w_0 t'] = w' [w_0 t']$$\n",
    "This rearangment allows us to look at our time in units of $w_0$ and consider changes in rate with field via:\n",
    "$$ w' = \\cosh{(2 \\beta' H')} \\exp{(-\\beta' H'^2)} $$\n",
    "\n",
    "This gives us two advantages:\n",
    "1) We can reference timescales in our model to our base rate $w_o t'$. We won't have to worry about updating the timesteps between virtual nodes when we change $\\beta'$ for example. <br>\n",
    "2) If we use $w_0t'$ as time, then we can see that one key effect of changing $\\beta'$ is to change the sensitivity of the rate with field. We can examine $w'$ in more detail to see what this looks like. \n",
    "\n",
    "**This also has an important implication:**\n",
    "Because running at different $\\beta'$ changes the sensitivity to field, *we can not simply scale the time period as we scale $\\beta'$ and get the same results*. This has implications for devices&mdash;*Size matters!*.\n",
    "\n",
    "Let's examine $w'$ in more detail:"
   ]
  },
  {
   "cell_type": "code",
   "execution_count": 13,
   "metadata": {
    "jupyter": {
     "source_hidden": true
    }
   },
   "outputs": [
    {
     "data": {
      "application/vnd.jupyter.widget-view+json": {
       "model_id": "76c09e4a90d44d82b213d43e7322d919",
       "version_major": 2,
       "version_minor": 0
      },
      "text/plain": [
       "Canvas(toolbar=Toolbar(toolitems=[('Home', 'Reset original view', 'home', 'home'), ('Back', 'Back to previous …"
      ]
     },
     "metadata": {},
     "output_type": "display_data"
    }
   ],
   "source": [
    "import matplotlib.pyplot as plt\n",
    "import numpy as np\n",
    "import ipywidgets as widgets\n",
    "\n",
    "#3D plotting\n",
    "from mpl_toolkits.mplot3d import Axes3D\n",
    "from matplotlib import cm\n",
    "\n",
    "\n",
    "# Remove previously open figure\n",
    "if 'w_prime_fig' in locals():\n",
    "    plt.close(w_prime_fig)\n",
    "\n",
    "# Function that defines w_prime\n",
    "def w_prime(beta_prime,h_prime):\n",
    "    w_prime = np.cosh(2*beta_prime*h_prime)*np.exp(-beta_prime*np.power(h_prime,2))\n",
    "            \n",
    "    return w_prime\n",
    "\n",
    "# Set up plot\n",
    "w_prime_fig = plt.figure()\n",
    "ax = w_prime_fig.gca(projection='3d')\n",
    "beta_prime = np.arange(3,30,.1)\n",
    "h_prime = np.arange(-1,1,0.05)\n",
    "beta_prime, h_prime = np.meshgrid(beta_prime, h_prime)\n",
    "ax.set_title('Sensitivity of rate to field')\n",
    "ax.set_xlabel(\"beta_prime\")\n",
    "ax.set_ylabel('h_prime')\n",
    "ax.set_zlabel('log(base rate multiplier)')\n",
    "ax.view_init(azim=133, elev=45)\n",
    "# Plot\n",
    "surf = ax.plot_surface(beta_prime,h_prime,np.log(w_prime(beta_prime,h_prime)), cmap = cm.coolwarm,\n",
    "                      linewidth = 0, antialiased=False)\n",
    "plt.show()\n"
   ]
  },
  {
   "cell_type": "markdown",
   "metadata": {},
   "source": [
    "Now lets look at the absolute rate $w$:"
   ]
  },
  {
   "cell_type": "code",
   "execution_count": 4,
   "metadata": {
    "jupyter": {
     "source_hidden": true
    }
   },
   "outputs": [
    {
     "data": {
      "application/vnd.jupyter.widget-view+json": {
       "model_id": "551a1702546048b6bb86f9f53614948a",
       "version_major": 2,
       "version_minor": 0
      },
      "text/plain": [
       "Canvas(toolbar=Toolbar(toolitems=[('Home', 'Reset original view', 'home', 'home'), ('Back', 'Back to previous …"
      ]
     },
     "metadata": {},
     "output_type": "display_data"
    }
   ],
   "source": [
    "# Remove previously open figure\n",
    "if 'w_prime_fig' in locals():\n",
    "    plt.close(w_prime_fig)\n",
    "\n",
    "# Function that defines w_prime\n",
    "def w_absolute(beta_prime,h_prime):\n",
    "    w_absolute = 2*np.cosh(2*beta_prime*h_prime)*np.exp( -beta_prime * ( 1+np.power(h_prime,2) ) )\n",
    "            \n",
    "    return w_absolute\n",
    "    \n",
    "\n",
    "# Set up plot\n",
    "w_prime_fig = plt.figure()\n",
    "ax = w_prime_fig.gca(projection='3d')\n",
    "beta_prime = np.arange(3,30,.1)\n",
    "h_prime = np.arange(-1,1,0.05)\n",
    "beta_prime, h_prime = np.meshgrid(beta_prime, h_prime)\n",
    "ax.set_title(\"Absolute rate\")\n",
    "ax.set_xlabel(\"beta_prime\")\n",
    "ax.set_ylabel('h_prime')\n",
    "ax.set_zlabel('log(rate)')\n",
    "ax.view_init(azim=133, elev=45)\n",
    "# Plot\n",
    "surf = ax.plot_surface(beta_prime,h_prime,np.log(w_absolute(beta_prime,h_prime)), \n",
    "                       cmap = cm.coolwarm, linewidth = 0, antialiased=False)\n",
    "plt.show()"
   ]
  },
  {
   "cell_type": "markdown",
   "metadata": {},
   "source": [
    "As we go to higher values of $\\beta'$, this dramatic change in field sensitivity may cause us problems with our machine learning problems as close variables will end up getting very highly seperated! Let's therefore consider some useful ranges of $\\beta'$. For practical measurments in our lab we may want a base rate that operates in seconds. We want the time for a change in the input of $e^{-1}$:"
   ]
  },
  {
   "cell_type": "code",
   "execution_count": 5,
   "metadata": {
    "jupyter": {
     "source_hidden": true
    }
   },
   "outputs": [
    {
     "name": "stdout",
     "output_type": "stream",
     "text": [
      "Assuming f0 = 10^10\n",
      "beta for measurment in seconds is  23.7189981105004\n",
      "time for a beta_prime of 3 is  1.0042768461593833e-09 seconds\n"
     ]
    }
   ],
   "source": [
    "def beta_finder(t, f0):\n",
    "    beta_prime = -np.log(1/(t*2*f0))\n",
    "    return beta_prime\n",
    "\n",
    "def time_finder(beta_prime,f0):\n",
    "    time = 1/(2*f0*np.exp(-beta_prime))\n",
    "    return time\n",
    "\n",
    "print('Assuming f0 = 10^10')\n",
    "print('beta for measurment in seconds is ', beta_finder(1,10**10))\n",
    "print('time for a beta_prime of 3 is ', time_finder(3,10**10), 'seconds')"
   ]
  },
  {
   "cell_type": "markdown",
   "metadata": {},
   "source": [
    "This means we can limit our exploration to values of $3 < \\beta' < 30$ which helps! This gives a time base from seconds (for easy lab work) down to nano seconds (for a real device)."
   ]
  },
  {
   "cell_type": "markdown",
   "metadata": {},
   "source": [
    "### An alternative viewpoint: anisotropy control"
   ]
  },
  {
   "cell_type": "markdown",
   "metadata": {},
   "source": [
    "Above, we considered manipulating the system via an effective temperature and field. However, these may not, in general, be the parameters we wish to change. If we envisage a fixed (non-zero) field and a changeable anisotropy (e.g. via strain) we can condsider whether it is possible to manipulate $m(t')$. Let us consider first turning on the field. For the next time step then, $m(0) = {(w_+ - w_-)}/{w}$. In our standard case, this is independant of anisotropy - $\\tanh{(HM_s V/K_B T)}$. We can examine this more closely by writing:  <br>\n",
    "$$ \\frac{w_+ - w_-}{w} = \\frac{ f_0 \\exp{(-E_+ \\beta)} - f_0 \\exp{(-E_- \\beta)} }{ f_0 \\exp{(-E_+ \\beta)} + f_0 \\exp{(-E_- \\beta)} } $$\n",
    "Adjusting the anisotropy is akin to $ E_- \\rightarrow E_- + \\Delta E \\, \\, \\&  \\,\\, E_+ \\rightarrow E_+ + \\Delta E$. \n",
    "$$ \\implies \\frac{w_+ - w_-}{w} \\rightarrow \\frac{ \\left[ f_0 \\exp{(-E_+ \\beta)} - f_0 \\exp{(-E_- \\beta)} \\right] \\exp{(-\\Delta E \\beta)}  }{ \\left[ f_0 \\exp{(-E_+ \\beta)} + f_0 \\exp{(-E_- \\beta)} \\right] \\exp{(-\\Delta E \\beta)} } = \\frac{w_+ - w_-}{w} $$"
   ]
  },
  {
   "cell_type": "markdown",
   "metadata": {},
   "source": [
    "What we need to achieve is the two energy barriers changing *differently*. One way to do that, is by rotating the anisotropy away from the field&mdash;for example with a non-collinear strain. This is easily shown with a demonstration:"
   ]
  },
  {
   "cell_type": "code",
   "execution_count": 12,
   "metadata": {
    "jupyter": {
     "source_hidden": true
    }
   },
   "outputs": [
    {
     "data": {
      "application/vnd.jupyter.widget-view+json": {
       "model_id": "e9f5fb45b9db451397eb5124acc8f760",
       "version_major": 2,
       "version_minor": 0
      },
      "text/plain": [
       "Canvas(toolbar=Toolbar(toolitems=[('Home', 'Reset original view', 'home', 'home'), ('Back', 'Back to previous …"
      ]
     },
     "metadata": {},
     "output_type": "display_data"
    },
    {
     "data": {
      "application/vnd.jupyter.widget-view+json": {
       "model_id": "c6a2e5b232d34074abeb0731ec263be5",
       "version_major": 2,
       "version_minor": 0
      },
      "text/plain": [
       "interactive(children=(FloatSlider(value=5.0, description='K', max=10.0), FloatSlider(value=0.0, description='K…"
      ]
     },
     "metadata": {},
     "output_type": "display_data"
    }
   ],
   "source": [
    "import matplotlib.pyplot as plt\n",
    "import numpy as np\n",
    "import ipywidgets as widgets\n",
    "\n",
    "# Remove previously open figure\n",
    "if 'figure' in locals():\n",
    "    plt.close(figure)\n",
    "\n",
    "# Basic energy for 1D model with H along the anisotropy axis (per unit volume)\n",
    "def basic_energy(theta,K,Ks,alpha,muHMs,gamma):\n",
    "    energy = (K*np.power(np.sin(theta*np.pi/180),2) + \n",
    "              Ks*np.power(np.sin((theta-alpha)*np.pi/180),2) \n",
    "              - muHMs * np.cos((theta-gamma)*np.pi/180)\n",
    "             )\n",
    "    return energy\n",
    "\n",
    "figure, ax = plt.subplots()\n",
    "'''\n",
    "ax.spines['left'].set_position('zero')\n",
    "ax.spines['right'].set_color('none')\n",
    "ax.spines['bottom'].set_position('zero')\n",
    "ax.spines['top'].set_color('none')\n",
    "'''\n",
    "ax.set_title('Energy landscape')\n",
    "ax.set_xlabel('Angle of M to easy axis / deg')\n",
    "ax.set_ylabel('Energy / AU')\n",
    "\n",
    "theta = np.arange(-180,180,1)\n",
    "ax.set_xlim([-180, 180])\n",
    "#ax.plot(theta, basic_energy(1, 1, 0.25, theta), color='C0')\n",
    "\n",
    "@widgets.interact(K=(0, 10, 0.1), Ks=(-10, 10, 0.1), \n",
    "                  alpha=(0, 90, 5), muHMs=(0, 20, 0.1), gamma=(0, 90, 5)\n",
    "                 )\n",
    "def update(K = 5, Ks = 0.0, alpha = 0, muHMs=0.0, gamma = 0.0):\n",
    "    #Remove old lines from plot and plot new one\n",
    "    [l.remove() for l in ax.lines]\n",
    "    #Plot\n",
    "    ax.plot(theta, basic_energy(theta,K,Ks,alpha,muHMs,gamma), color='C0')\n",
    "    #Rescale axes\n",
    "    ax.relim()\n",
    "    ax.autoscale_view()\n",
    "    \n",
    "\n"
   ]
  },
  {
   "cell_type": "markdown",
   "metadata": {},
   "source": [
    "This shows the energy landscape for a single layer with intrinsic strain (K), Additional strain anisotropy (Ks) at an angle (alpha), and field (muHMs) at an angle (gamma). Our x axis is angle of the magnetisation $\\implies -180^{\\circ} = 180^{\\circ}$. <br>\n",
    "Try introducing a strain anisotropy and playing with its angle under a fixed field. It's clear that the two energy barriers are changing differently."
   ]
  },
  {
   "cell_type": "markdown",
   "metadata": {},
   "source": [
    "This is explored in detail in the SPNC-anisotropy notebook"
   ]
  }
 ],
 "metadata": {
  "jupytext": {
   "formats": "ipynb,md"
  },
  "kernelspec": {
   "display_name": "Python 3",
   "language": "python",
   "name": "python3"
  },
  "language_info": {
   "codemirror_mode": {
    "name": "ipython",
    "version": 3
   },
   "file_extension": ".py",
   "mimetype": "text/x-python",
   "name": "python",
   "nbconvert_exporter": "python",
   "pygments_lexer": "ipython3",
   "version": "3.7.6"
  }
 },
 "nbformat": 4,
 "nbformat_minor": 4
}
