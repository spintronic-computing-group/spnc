{
 "cells": [
  {
   "cell_type": "markdown",
   "metadata": {},
   "source": [
    "# Superparamagnets Network - Control of magnetization through anistropy"
   ]
  },
  {
   "cell_type": "markdown",
   "metadata": {},
   "source": [
    "## The Stoner-Wolfarth model\n",
    "\n",
    "The goal is to influence $m_{eq}$ by applying a strain on the magnet, which will change the anisotropy of the system. If the strain induces an anistropy $K_\\sigma$ forming an angle $\\phi$ with the easy axis, the energy will read:\n",
    "\n",
    "$$E(\\theta) = KV\\sin^2{\\theta} + K_\\sigma V\\sin^2{(\\theta-\\phi)} - \\mu_0M_SVH\\cos{(\\theta-\\theta_H)}$$\n",
    "\n",
    "Which can be wrote:\n",
    "\n",
    "$$E(\\theta) = \\tilde{K}V\\sin^2{(\\theta-\\psi)} - \\mu_0M_SVH\\cos{(\\theta-\\theta_H)}$$\n",
    "\n",
    "where\n",
    "\n",
    "$$\\tilde{K} = \\sqrt{\\left(K+K_\\sigma\\cos{(2\\phi)}\\right)^2 +\\left(K_\\sigma\\sin{(2\\phi)}\\right)^2}$$\n",
    "\n",
    "$$\\psi = \\frac{1}{2}\\arctan{\\left(\\frac{K_\\sigma\\sin{(2\\phi)}}{K+K_\\sigma\\cos{(2\\phi)}}\\right)}$$\n",
    "\n",
    "The control paramter is  $K_\\sigma$, which influences the angle $\\psi$ and $\\tilde{K}$.\n",
    "\n",
    "## Arrhenius equation\n",
    "\n",
    "We are facing a two-states system with two barriers ($E^-_{b}$ and $E^+_{b}$) of energy. For the moment, we will write de transition rate like this:\n",
    "\n",
    "$$\\omega = \\frac{1}{\\tau} = f^-_{0}\\exp{\\left(\\frac{-E^-_{b}}{K_BT}\\right)}+f^+_{0}\\exp{\\left(\\frac{-E^+_{b}}{K_BT}\\right)}$$\n",
    "\n",
    "We will fix $f_{0,-}=f_{0,+}=1$. We will call $T_{max}$ the temperature verifying $KV/(k_BT) = 3$. Above $T_{max}$, the Arrhenius law cannot be used anymore and our simulation is incorrect.\n",
    "\n",
    "## Dimensionless equations\n",
    "\n",
    "Let $e = \\frac{E}{KV}$, $H_K = \\frac{2K}{\\mu_0M_S}$, $h=\\frac{H}{H_K}$, $k_\\sigma=\\frac{K_\\sigma}{K}$, $\\omega'=\\frac{\\omega}{f_0}$ and $\\beta'=\\frac{KV}{k_BT}$. The energy of the system now reads:\n",
    "\n",
    "$$e(\\theta) = \\tilde{k}\\sin^2{(\\theta-\\psi)} - 2h\\cos{(\\theta-\\theta_H)}$$\n",
    "\n",
    "where\n",
    "\n",
    "$$\\tilde{k} = \\sqrt{\\left(1+k_\\sigma\\cos{(2\\phi)}\\right)^2 +\\left(k_\\sigma\\sin{(2\\phi)}\\right)^2}$$\n",
    "\n",
    "$$\\psi = \\frac{1}{2}\\arctan{\\left(\\frac{k_\\sigma\\sin{(2\\phi)}}{1+k_\\sigma\\cos{(2\\phi)}}\\right)}$$\n",
    "\n",
    "The Arrhenius law becomes:\n",
    "\n",
    "$$\\omega' = \\exp{\\left(-e^-_{b}\\beta'\\right)}+\\exp{\\left(-e^+_{b}\\beta'\\right)}$$"
   ]
  },
  {
   "cell_type": "code",
   "execution_count": null,
   "metadata": {},
   "outputs": [],
   "source": []
  }
 ],
 "metadata": {
  "jupytext": {
   "formats": "ipynb,py:hydrogen"
  },
  "kernelspec": {
   "display_name": "Python 3",
   "language": "python",
   "name": "python3"
  },
  "language_info": {
   "codemirror_mode": {
    "name": "ipython",
    "version": 3
   },
   "file_extension": ".py",
   "mimetype": "text/x-python",
   "name": "python",
   "nbconvert_exporter": "python",
   "pygments_lexer": "ipython3",
   "version": "3.7.6"
  }
 },
 "nbformat": 4,
 "nbformat_minor": 4
}
