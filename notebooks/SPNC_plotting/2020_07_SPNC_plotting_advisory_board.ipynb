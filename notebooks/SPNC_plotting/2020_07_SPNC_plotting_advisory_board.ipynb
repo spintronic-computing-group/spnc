{
 "cells": [
  {
   "cell_type": "markdown",
   "metadata": {},
   "source": [
    "# SPNC plotting for advisory board - 2020/07/02"
   ]
  },
  {
   "cell_type": "markdown",
   "metadata": {},
   "source": [
    "*This is a notebook is used for quick plotting of ideas* <br>\n",
    "*Running with updated code may break things...*"
   ]
  },
  {
   "cell_type": "code",
   "execution_count": 1,
   "metadata": {
    "lines_to_next_cell": 1
   },
   "outputs": [],
   "source": [
    "# Magic to choose matplotlib backend (used mostly)\n",
    "%matplotlib widget\n",
    "\n",
    "# Standard libraries\n",
    "import numpy as np\n",
    "from matplotlib import pyplot as plt\n",
    "from scipy import constants\n",
    "\n",
    "# 3D plotting\n",
    "from mpl_toolkits.mplot3d import Axes3D\n",
    "from matplotlib import cm\n"
   ]
  },
  {
   "cell_type": "markdown",
   "metadata": {},
   "source": [
    "## Plotting for advisory board"
   ]
  },
  {
   "cell_type": "markdown",
   "metadata": {},
   "source": [
    "When this section was written, these repos were used: <br>\n",
    "SPNC : v0.2.0 <br>\n",
    "machine_learning_library : v0.1.2\n",
    "\n",
    "---"
   ]
  },
  {
   "cell_type": "code",
   "execution_count": 50,
   "metadata": {},
   "outputs": [],
   "source": [
    "# Sort out relative paths\n",
    "import sys\n",
    "from pathlib import Path\n",
    "repodir = Path('../../..').resolve()\n",
    "try:\n",
    "    sys.path.index(str(repodir))\n",
    "except ValueError:\n",
    "    sys.path.append(str(repodir))\n",
    "\n",
    "# local imports    \n",
    "from SPNC import spnc"
   ]
  },
  {
   "cell_type": "code",
   "execution_count": 51,
   "metadata": {},
   "outputs": [
    {
     "data": {
      "application/vnd.jupyter.widget-view+json": {
       "model_id": "f00605ee46c340b493210d8cb950e2a6",
       "version_major": 2,
       "version_minor": 0
      },
      "text/plain": [
       "Canvas(toolbar=Toolbar(toolitems=[('Home', 'Reset original view', 'home', 'home'), ('Back', 'Back to previous …"
      ]
     },
     "metadata": {},
     "output_type": "display_data"
    }
   ],
   "source": [
    "# Remove previously open figure\n",
    "if 'fig_res_basic_response' in locals():\n",
    "    plt.close(fig_res_basic_response)\n",
    "\n",
    "basic = spnc.spnc_basic()\n",
    "h_primes = np.array([0.3, 0])\n",
    "fields, thetas, times, mags = basic.plotter_sw(\n",
    "    3,h_primes,0,7,100)\n",
    "\n",
    "fig_res_basic_response, ax = plt.subplots()\n",
    "ax.plot(thetas,mags, color = 'C0')\n",
    "ax.set_ylabel('Normalised response', color = 'C0')\n",
    "ax.tick_params(axis='y', labelcolor= 'C0')\n",
    "ax.set_ylim([-0,1])\n",
    "\n",
    "axr = ax.twinx()\n",
    "axr.plot(thetas,fields, color = 'C1')\n",
    "axr.set_ylabel('Normalised input', color = 'C1')\n",
    "axr.tick_params(axis='y', labelcolor= 'C1')\n",
    "axr.set_ylim([0,1])\n",
    "\n",
    "#ax.set_title('Resevoir response to input')\n",
    "ax.set_xlabel('Time / Base Time')\n",
    "\n",
    "plt.show()"
   ]
  },
  {
   "cell_type": "code",
   "execution_count": 132,
   "metadata": {},
   "outputs": [
    {
     "data": {
      "application/vnd.jupyter.widget-view+json": {
       "model_id": "1296aa01fd134e5fb7f530ad891d90f1",
       "version_major": 2,
       "version_minor": 0
      },
      "text/plain": [
       "Canvas(toolbar=Toolbar(toolitems=[('Home', 'Reset original view', 'home', 'home'), ('Back', 'Back to previous …"
      ]
     },
     "metadata": {},
     "output_type": "display_data"
    }
   ],
   "source": [
    "# Remove previously open figure\n",
    "if 'fig_res_response' in locals():\n",
    "    plt.close(fig_res_response)\n",
    "\n",
    "basic = spnc.spnc_basic()\n",
    "h_primes = np.array([-0.20652659,  0.8896459,   0.55040415, -0.53700334,\n",
    "                     0.47482908, -0.25440813, -0.19123128, -0.75899033,\n",
    "                     -0.55614648,  0.04739548])\n",
    "fields, thetas, times, mags = basic.plotter_sw(\n",
    "    3,h_primes,0,0.2,100)\n",
    "\n",
    "fig_res_response, ax = plt.subplots()\n",
    "ax.plot(thetas,mags, color = 'C0')\n",
    "ax.set_ylabel('Normalised response', color = 'C0')\n",
    "ax.tick_params(axis='y', labelcolor= 'C0')\n",
    "ax.set_ylim([-1.1,1.1])\n",
    "\n",
    "axr = ax.twinx()\n",
    "axr.plot(thetas,fields, color = 'C1')\n",
    "axr.set_ylabel('Normalised input', color = 'C1')\n",
    "axr.tick_params(axis='y', labelcolor= 'C1')\n",
    "axr.set_ylim([-1.1,1.1])\n",
    "\n",
    "#ax.set_title('Resevoir response to input')\n",
    "ax.set_xlabel('Time / Base Time')\n",
    "\n",
    "plt.show()"
   ]
  },
  {
   "cell_type": "code",
   "execution_count": 133,
   "metadata": {},
   "outputs": [
    {
     "data": {
      "application/vnd.jupyter.widget-view+json": {
       "model_id": "459ab786f8ae42da9156bb8c302cdc9a",
       "version_major": 2,
       "version_minor": 0
      },
      "text/plain": [
       "Canvas(toolbar=Toolbar(toolitems=[('Home', 'Reset original view', 'home', 'home'), ('Back', 'Back to previous …"
      ]
     },
     "metadata": {},
     "output_type": "display_data"
    }
   ],
   "source": [
    "# Remove previously open figure\n",
    "if 'fig_res_response' in locals():\n",
    "    plt.close(fig_res_response)\n",
    "\n",
    "basic = spnc.spnc_basic()\n",
    "h_primes = np.array([-0.20652659,  0.8896459,   0.55040415, -0.53700334,\n",
    "                     0.47482908, -0.25440813, -0.19123128, -0.75899033,\n",
    "                     -0.55614648,  0.04739548])\n",
    "fields, thetas, times, mags = basic.plotter_sw(\n",
    "    3,h_primes,0,1,100)\n",
    "\n",
    "fig_res_response, ax = plt.subplots()\n",
    "ax.plot(thetas,mags, color = 'C0')\n",
    "ax.set_ylabel('Normalised response', color = 'C0')\n",
    "ax.tick_params(axis='y', labelcolor= 'C0')\n",
    "ax.set_ylim([-1.1,1.1])\n",
    "\n",
    "axr = ax.twinx()\n",
    "axr.plot(thetas,fields, color = 'C1')\n",
    "axr.set_ylabel('Normalised input', color = 'C1')\n",
    "axr.tick_params(axis='y', labelcolor= 'C1')\n",
    "axr.set_ylim([-1.1,1.1])\n",
    "\n",
    "#ax.set_title('Resevoir response to input')\n",
    "ax.set_xlabel('Time / Base Time')\n",
    "\n",
    "plt.show()"
   ]
  },
  {
   "cell_type": "code",
   "execution_count": 119,
   "metadata": {},
   "outputs": [
    {
     "data": {
      "application/vnd.jupyter.widget-view+json": {
       "model_id": "411fbe6e57364ad2adc78d9707380774",
       "version_major": 2,
       "version_minor": 0
      },
      "text/plain": [
       "Canvas(toolbar=Toolbar(toolitems=[('Home', 'Reset original view', 'home', 'home'), ('Back', 'Back to previous …"
      ]
     },
     "metadata": {},
     "output_type": "display_data"
    }
   ],
   "source": [
    "# Remove previously open figure\n",
    "if 'figure' in locals():\n",
    "    plt.close(figure)\n",
    "\n",
    "# Basic energy for 1D model with H along the anisotropy axis (per unit volume)\n",
    "def basic_energy(theta,Ks_prime,alpha,h_prime,gamma):\n",
    "    energy = (np.power(np.sin(theta*np.pi/180),2) + \n",
    "              Ks_prime*np.power(np.sin((theta-alpha)*np.pi/180),2) \n",
    "              - 2*h_prime * np.cos((theta-gamma)*np.pi/180)\n",
    "             )\n",
    "    return energy\n",
    "\n",
    "figure, ax = plt.subplots()\n",
    "'''\n",
    "ax.spines['left'].set_position('zero')\n",
    "ax.spines['right'].set_color('none')\n",
    "ax.spines['bottom'].set_position('zero')\n",
    "ax.spines['top'].set_color('none')\n",
    "'''\n",
    "ax.set_title('Energy landscape for a single element')\n",
    "ax.set_xlabel(r'$\\theta$ / deg')\n",
    "ax.set_ylabel('Energy / AU')\n",
    "\n",
    "theta = np.arange(-180,180,1)\n",
    "ax.set_xlim([-180, 180])\n",
    "\n",
    "K = 0.5\n",
    "Ks = 0\n",
    "alpha = 0\n",
    "muHMs = 0.3\n",
    "gamma = 0\n",
    "\n",
    "ax.plot(theta, basic_energy(theta,0,alpha,0,gamma), \n",
    "        color='C0', label = 'Input off')\n",
    "plt.show()\n"
   ]
  },
  {
   "cell_type": "code",
   "execution_count": 120,
   "metadata": {
    "jupyter": {
     "source_hidden": true
    }
   },
   "outputs": [
    {
     "data": {
      "application/vnd.jupyter.widget-view+json": {
       "model_id": "0ed02f87013142c3a6010e477270ed14",
       "version_major": 2,
       "version_minor": 0
      },
      "text/plain": [
       "Canvas(toolbar=Toolbar(toolitems=[('Home', 'Reset original view', 'home', 'home'), ('Back', 'Back to previous …"
      ]
     },
     "metadata": {},
     "output_type": "display_data"
    }
   ],
   "source": [
    "# Remove previously open figure\n",
    "if 'figure' in locals():\n",
    "    plt.close(figure)\n",
    "\n",
    "# Basic energy for 1D model with H along the anisotropy axis (per unit volume)\n",
    "def basic_energy(theta,Ks_prime,alpha,h_prime,gamma):\n",
    "    energy = (np.power(np.sin(theta*np.pi/180),2) + \n",
    "              Ks_prime*np.power(np.sin((theta-alpha)*np.pi/180),2) \n",
    "              - 2*h_prime * np.cos((theta-gamma)*np.pi/180)\n",
    "             )\n",
    "    return energy\n",
    "\n",
    "figure, ax = plt.subplots()\n",
    "'''\n",
    "ax.spines['left'].set_position('zero')\n",
    "ax.spines['right'].set_color('none')\n",
    "ax.spines['bottom'].set_position('zero')\n",
    "ax.spines['top'].set_color('none')\n",
    "'''\n",
    "ax.set_title('Changing landscape with field input')\n",
    "ax.set_xlabel(r'$\\theta$ / deg')\n",
    "ax.set_ylabel('Energy / AU')\n",
    "\n",
    "theta = np.arange(-180,180,1)\n",
    "ax.set_xlim([-180, 180])\n",
    "\n",
    "K = 0.5\n",
    "Ks = 0\n",
    "alpha = 0\n",
    "muHMs = 0.3\n",
    "gamma = 0\n",
    "\n",
    "ax.plot(theta, basic_energy(theta,0,alpha,0,gamma), \n",
    "        color='C0',alpha = 0.3 , label = 'Input off')\n",
    "ax.plot(theta, basic_energy(theta,0,alpha,0.3,gamma),\n",
    "        color='C1', label = 'Input on')\n",
    "ax.legend()\n",
    "plt.show()"
   ]
  },
  {
   "cell_type": "code",
   "execution_count": 143,
   "metadata": {},
   "outputs": [
    {
     "data": {
      "application/vnd.jupyter.widget-view+json": {
       "model_id": "90989b63641e4df5b71700d614d9bb43",
       "version_major": 2,
       "version_minor": 0
      },
      "text/plain": [
       "Canvas(toolbar=Toolbar(toolitems=[('Home', 'Reset original view', 'home', 'home'), ('Back', 'Back to previous …"
      ]
     },
     "metadata": {},
     "output_type": "display_data"
    }
   ],
   "source": [
    "# Remove previously open figure\n",
    "if 'figure' in locals():\n",
    "    plt.close(figure)\n",
    "\n",
    "# Basic energy for 1D model with H along the anisotropy axis (per unit volume)\n",
    "def basic_energy(theta,Ks_prime,alpha,h_prime,gamma):\n",
    "    energy = (np.power(np.sin(theta*np.pi/180),2) + \n",
    "              Ks_prime*np.power(np.sin((theta-alpha)*np.pi/180),2) \n",
    "              - 2*h_prime * np.cos((theta-gamma)*np.pi/180)\n",
    "             )\n",
    "    return energy\n",
    "\n",
    "figure, ax = plt.subplots()\n",
    "'''\n",
    "ax.spines['left'].set_position('zero')\n",
    "ax.spines['right'].set_color('none')\n",
    "ax.spines['bottom'].set_position('zero')\n",
    "ax.spines['top'].set_color('none')\n",
    "'''\n",
    "ax.set_title('Changing landscape with field rotation')\n",
    "ax.set_xlabel(r'$\\theta$ / deg')\n",
    "ax.set_ylabel('Energy / AU')\n",
    "\n",
    "theta = np.arange(-180,180,1)\n",
    "ax.set_xlim([-180, 180])\n",
    "\n",
    "K = 0.5\n",
    "Ks = 0\n",
    "alpha = 0\n",
    "muHMs = 0.3\n",
    "gamma = 0\n",
    "\n",
    "ax.plot(theta, basic_energy(theta,0,alpha,0,gamma), \n",
    "        color='C0',alpha = 0.1 , label = 'No field')\n",
    "ax.plot(theta, basic_energy(theta,0,alpha,0.3,gamma),\n",
    "        color='C1',alpha = 0.4, label = 'Field on')\n",
    "ax.plot(theta, basic_energy(theta,0,alpha,0.3,45),\n",
    "        color='C2', label = 'Rotate field')\n",
    "ax.legend()\n",
    "plt.show()"
   ]
  },
  {
   "cell_type": "code",
   "execution_count": 145,
   "metadata": {},
   "outputs": [
    {
     "data": {
      "application/vnd.jupyter.widget-view+json": {
       "model_id": "24fdf0dffa444c57a7d5ecbe349b7b7e",
       "version_major": 2,
       "version_minor": 0
      },
      "text/plain": [
       "Canvas(toolbar=Toolbar(toolitems=[('Home', 'Reset original view', 'home', 'home'), ('Back', 'Back to previous …"
      ]
     },
     "metadata": {},
     "output_type": "display_data"
    }
   ],
   "source": [
    "# Remove previously open figure\n",
    "if 'figure' in locals():\n",
    "    plt.close(figure)\n",
    "\n",
    "# Basic energy for 1D model with H along the anisotropy axis (per unit volume)\n",
    "def basic_energy(theta,Ks_prime,alpha,h_prime,gamma):\n",
    "    energy = (np.power(np.sin(theta*np.pi/180),2) + \n",
    "              Ks_prime*np.power(np.sin((theta-alpha)*np.pi/180),2) \n",
    "              - 2*h_prime * np.cos((theta-gamma)*np.pi/180)\n",
    "             )\n",
    "    return energy\n",
    "\n",
    "figure, ax = plt.subplots()\n",
    "'''\n",
    "ax.spines['left'].set_position('zero')\n",
    "ax.spines['right'].set_color('none')\n",
    "ax.spines['bottom'].set_position('zero')\n",
    "ax.spines['top'].set_color('none')\n",
    "'''\n",
    "ax.set_title('Energy landscape for zero voltage input')\n",
    "ax.set_xlabel(r'$\\theta$ / deg')\n",
    "ax.set_ylabel('Energy / AU')\n",
    "\n",
    "theta = np.arange(-180,180,1)\n",
    "ax.set_xlim([-180, 180])\n",
    "\n",
    "K = 0.5\n",
    "Ks = 0\n",
    "alpha = 0\n",
    "muHMs = 0.3\n",
    "gamma = 0\n",
    "\n",
    "ax.plot(theta, basic_energy(theta,0.,45,0,0),\n",
    "        color='C0', label = 'Input = 0.2',alpha = 0.3)\n",
    "ax.plot(theta, basic_energy(theta,0.5,45,0,0),\n",
    "        color='C1', label = 'Input = 0.2',alpha = 1)\n",
    "plt.show()\n"
   ]
  },
  {
   "cell_type": "code",
   "execution_count": 128,
   "metadata": {},
   "outputs": [
    {
     "data": {
      "application/vnd.jupyter.widget-view+json": {
       "model_id": "d6376566cafa4b1a83251131b76f745a",
       "version_major": 2,
       "version_minor": 0
      },
      "text/plain": [
       "Canvas(toolbar=Toolbar(toolitems=[('Home', 'Reset original view', 'home', 'home'), ('Back', 'Back to previous …"
      ]
     },
     "metadata": {},
     "output_type": "display_data"
    }
   ],
   "source": [
    "# Remove previously open figure\n",
    "if 'figure' in locals():\n",
    "    plt.close(figure)\n",
    "\n",
    "# Basic energy for 1D model with H along the anisotropy axis (per unit volume)\n",
    "def basic_energy(theta,Ks_prime,alpha,h_prime,gamma):\n",
    "    energy = (np.power(np.sin(theta*np.pi/180),2) + \n",
    "              Ks_prime*np.power(np.sin((theta-alpha)*np.pi/180),2) \n",
    "              - 2*h_prime * np.cos((theta-gamma)*np.pi/180)\n",
    "             )\n",
    "    return energy\n",
    "\n",
    "figure, ax = plt.subplots()\n",
    "'''\n",
    "ax.spines['left'].set_position('zero')\n",
    "ax.spines['right'].set_color('none')\n",
    "ax.spines['bottom'].set_position('zero')\n",
    "ax.spines['top'].set_color('none')\n",
    "'''\n",
    "ax.set_title('Energy landscape for zero voltage input')\n",
    "ax.set_xlabel(r'$\\theta$ / deg')\n",
    "ax.set_ylabel('Energy / AU')\n",
    "\n",
    "theta = np.arange(-180,180,1)\n",
    "ax.set_xlim([-180, 180])\n",
    "\n",
    "K = 0.5\n",
    "Ks = 0\n",
    "alpha = 0\n",
    "muHMs = 0.3\n",
    "gamma = 0\n",
    "\n",
    "ax.plot(theta, basic_energy(theta,0.,45,0.3,90),\n",
    "        color='C0', label = 'Input = 0.2',alpha = 1)\n",
    "plt.show()\n"
   ]
  },
  {
   "cell_type": "code",
   "execution_count": 129,
   "metadata": {},
   "outputs": [
    {
     "data": {
      "application/vnd.jupyter.widget-view+json": {
       "model_id": "99f495da0e804a6c80d52b2c5576e23a",
       "version_major": 2,
       "version_minor": 0
      },
      "text/plain": [
       "Canvas(toolbar=Toolbar(toolitems=[('Home', 'Reset original view', 'home', 'home'), ('Back', 'Back to previous …"
      ]
     },
     "metadata": {},
     "output_type": "display_data"
    }
   ],
   "source": [
    "# Remove previously open figure\n",
    "if 'figure' in locals():\n",
    "    plt.close(figure)\n",
    "\n",
    "# Basic energy for 1D model with H along the anisotropy axis (per unit volume)\n",
    "def basic_energy(theta,Ks_prime,alpha,h_prime,gamma):\n",
    "    energy = (np.power(np.sin(theta*np.pi/180),2) + \n",
    "              Ks_prime*np.power(np.sin((theta-alpha)*np.pi/180),2) \n",
    "              - 2*h_prime * np.cos((theta-gamma)*np.pi/180)\n",
    "             )\n",
    "    return energy\n",
    "\n",
    "figure, ax = plt.subplots()\n",
    "'''\n",
    "ax.spines['left'].set_position('zero')\n",
    "ax.spines['right'].set_color('none')\n",
    "ax.spines['bottom'].set_position('zero')\n",
    "ax.spines['top'].set_color('none')\n",
    "'''\n",
    "ax.set_title('Energy change with voltage input')\n",
    "ax.set_xlabel(r'$\\theta$ / deg')\n",
    "ax.set_ylabel('Energy / AU')\n",
    "\n",
    "theta = np.arange(-180,180,1)\n",
    "ax.set_xlim([-180, 180])\n",
    "\n",
    "K = 0.5\n",
    "Ks = 0\n",
    "alpha = 0\n",
    "muHMs = 0.3\n",
    "gamma = 0\n",
    "\n",
    "ax.plot(theta, basic_energy(theta,0.,45,0.3,90),\n",
    "        color='C0', label = 'Input off',alpha = 0.3)\n",
    "ax.plot(theta, basic_energy(theta,0.5,45,0.3,90),\n",
    "        color='C1', label = 'Input on')\n",
    "ax.legend()\n",
    "plt.show()\n"
   ]
  },
  {
   "cell_type": "code",
   "execution_count": null,
   "metadata": {},
   "outputs": [],
   "source": []
  }
 ],
 "metadata": {
  "jupytext": {
   "formats": "ipynb,py:hydrogen"
  },
  "kernelspec": {
   "display_name": "Python (SPNC)",
   "language": "python",
   "name": "spnc"
  },
  "language_info": {
   "codemirror_mode": {
    "name": "ipython",
    "version": 3
   },
   "file_extension": ".py",
   "mimetype": "text/x-python",
   "name": "python",
   "nbconvert_exporter": "python",
   "pygments_lexer": "ipython3",
   "version": "3.7.6"
  }
 },
 "nbformat": 4,
 "nbformat_minor": 4
}
